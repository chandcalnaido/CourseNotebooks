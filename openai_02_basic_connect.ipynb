{
  "cells": [
    {
      "cell_type": "markdown",
      "metadata": {
        "id": "view-in-github",
        "colab_type": "text"
      },
      "source": [
        "<a href=\"https://colab.research.google.com/github/chandcalnaido/CourseNotebooks/blob/main/openai_02_basic_connect.ipynb\" target=\"_parent\"><img src=\"https://colab.research.google.com/assets/colab-badge.svg\" alt=\"Open In Colab\"/></a>"
      ]
    },
    {
      "cell_type": "code",
      "execution_count": null,
      "id": "65446a88-fe08-4597-9c06-8a6e2b74c212",
      "metadata": {
        "id": "65446a88-fe08-4597-9c06-8a6e2b74c212"
      },
      "outputs": [],
      "source": [
        "import openai"
      ]
    },
    {
      "cell_type": "code",
      "execution_count": null,
      "id": "6331a929-1fc2-42df-a490-5314828dc4cc",
      "metadata": {
        "id": "6331a929-1fc2-42df-a490-5314828dc4cc"
      },
      "outputs": [],
      "source": [
        "#pip install openai"
      ]
    },
    {
      "cell_type": "code",
      "execution_count": null,
      "id": "d5f1aa49-e7c5-4268-9d25-f7553bf87ce5",
      "metadata": {
        "id": "d5f1aa49-e7c5-4268-9d25-f7553bf87ce5",
        "outputId": "4e2488f5-9ba1-4561-900e-ae7ef8ae0bcb"
      },
      "outputs": [
        {
          "data": {
            "text/plain": [
              "'1.45.1'"
            ]
          },
          "execution_count": 4,
          "metadata": {},
          "output_type": "execute_result"
        }
      ],
      "source": [
        "openai.__version__"
      ]
    },
    {
      "cell_type": "code",
      "execution_count": null,
      "id": "97d6ce20-ebe3-41f7-b874-4e15c819274e",
      "metadata": {
        "id": "97d6ce20-ebe3-41f7-b874-4e15c819274e"
      },
      "outputs": [],
      "source": [
        "from openai import OpenAI\n",
        "import json"
      ]
    },
    {
      "cell_type": "code",
      "execution_count": null,
      "id": "b3c5dec0-ff39-4f8e-8765-a1250e2154ab",
      "metadata": {
        "id": "b3c5dec0-ff39-4f8e-8765-a1250e2154ab",
        "outputId": "cf0bb6c6-a5d9-4899-bfe4-c456644b697e"
      },
      "outputs": [
        {
          "name": "stdout",
          "output_type": "stream",
          "text": [
            "OpenAI API Key :  sk-H_TZYfYV1wBZDSi4z89Q8yV38_ERDxLMvMWL_NDDLgT3BlbkFJh5RyQjpkgYygVekutBILl-O-3-u9_EQC_oySkzYmMA\n"
          ]
        }
      ],
      "source": [
        "from dotenv import load_dotenv\n",
        "import os\n",
        "\n",
        "# Load environment variables from .env file\n",
        "load_dotenv()\n",
        "\n",
        "print('OpenAI API Key : ' , os.getenv(\"OPENAI_API_KEY\"))\n",
        "\n",
        "# Get the OpenAI API key from the environment\n",
        "# openai_api_key = os.getenv(\"OPENAI_API_KEY\")"
      ]
    },
    {
      "cell_type": "code",
      "execution_count": null,
      "id": "dc119e21-d8d3-4f4a-9899-27b791f01d17",
      "metadata": {
        "id": "dc119e21-d8d3-4f4a-9899-27b791f01d17"
      },
      "outputs": [],
      "source": [
        "client = OpenAI(\n",
        "    # defaults to os.environ.get(\"OPENAI_API_KEY\")\n",
        "    # api_key = openai_api_key\n",
        ")"
      ]
    },
    {
      "cell_type": "code",
      "execution_count": null,
      "id": "b8983edf-a45b-4db1-bb4c-62330ba6e32a",
      "metadata": {
        "id": "b8983edf-a45b-4db1-bb4c-62330ba6e32a"
      },
      "outputs": [],
      "source": [
        "response = client.chat.completions.create(\n",
        "                messages=[\n",
        "                    {\"role\": \"user\", \"content\": \"what is Data Science\"}\n",
        "                ],\n",
        "                model      = \"gpt-4o-mini\",\n",
        "                max_tokens = 10\n",
        ")"
      ]
    },
    {
      "cell_type": "code",
      "execution_count": null,
      "id": "7df5ba91-8277-4648-86c1-64cdfddd8acf",
      "metadata": {
        "id": "7df5ba91-8277-4648-86c1-64cdfddd8acf",
        "outputId": "da27457e-d0fb-4c19-ab12-9933d7337a11"
      },
      "outputs": [
        {
          "data": {
            "text/plain": [
              "ChatCompletion(id='chatcmpl-AF0MMz6K2OwPXWNmDadjkCgLoh9FY', choices=[Choice(finish_reason='length', index=0, logprobs=None, message=ChatCompletionMessage(content='Data science is an interdisciplinary field that focuses on extracting', refusal=None, role='assistant', function_call=None, tool_calls=None))], created=1728139666, model='gpt-4o-mini-2024-07-18', object='chat.completion', service_tier=None, system_fingerprint='fp_f85bea6784', usage=CompletionUsage(completion_tokens=10, prompt_tokens=11, total_tokens=21, completion_tokens_details=CompletionTokensDetails(reasoning_tokens=0), prompt_tokens_details={'cached_tokens': 0}))"
            ]
          },
          "execution_count": 9,
          "metadata": {},
          "output_type": "execute_result"
        }
      ],
      "source": [
        "response"
      ]
    },
    {
      "cell_type": "code",
      "execution_count": null,
      "id": "a3901d22-4fa4-4913-8626-8a5052042c52",
      "metadata": {
        "id": "a3901d22-4fa4-4913-8626-8a5052042c52",
        "outputId": "56d80b2c-5fa2-4f1c-80be-16acc4c2c3d4"
      },
      "outputs": [
        {
          "data": {
            "text/plain": [
              "'Data science is an interdisciplinary field that focuses on extracting'"
            ]
          },
          "execution_count": 10,
          "metadata": {},
          "output_type": "execute_result"
        }
      ],
      "source": [
        "response.choices[0].message.content"
      ]
    },
    {
      "cell_type": "code",
      "execution_count": null,
      "id": "0b177b84-33aa-4128-ad87-427baa20f140",
      "metadata": {
        "id": "0b177b84-33aa-4128-ad87-427baa20f140"
      },
      "outputs": [],
      "source": [
        "response = client.chat.completions.create(\n",
        "                  model=\"gpt-3.5-turbo\",\n",
        "                  messages=[\n",
        "\n",
        "                    {\"role\": \"user\",   \"content\": \"What is Boltzmann distribution\"}\n",
        "                  ]\n",
        ")"
      ]
    },
    {
      "cell_type": "code",
      "execution_count": null,
      "id": "7cca1eb0-5b56-43a6-98de-80ccdc1fd75b",
      "metadata": {
        "id": "7cca1eb0-5b56-43a6-98de-80ccdc1fd75b",
        "outputId": "4069b4c4-ba10-4dde-ae84-3f1e2a58be63"
      },
      "outputs": [
        {
          "data": {
            "text/plain": [
              "'The Boltzmann distribution, also known as the Maxwell-Boltzmann distribution, is a probability distribution describing the distribution of particles in a physical system at thermal equilibrium. It gives the probability of finding a particle with a certain energy level in a system at a given temperature.  The distribution is derived from statistical mechanics and is used to understand the behavior of particles in gases, liquids, and solids. It states that at a given temperature, particles in a system will have a range of energies, with higher energy levels being less probable than lower energy levels.  The Boltzmann distribution is a key concept in understanding the behavior of gases and plays a crucial role in many areas of physics, including thermodynamics, statistical mechanics, and quantum mechanics.'"
            ]
          },
          "execution_count": 12,
          "metadata": {},
          "output_type": "execute_result"
        }
      ],
      "source": [
        "response.choices[0].message.content.replace(\"\\n\", \" \")"
      ]
    },
    {
      "cell_type": "code",
      "execution_count": null,
      "id": "2e11b3e2-4f3c-45b2-8ae3-220f7104f0b1",
      "metadata": {
        "id": "2e11b3e2-4f3c-45b2-8ae3-220f7104f0b1"
      },
      "outputs": [],
      "source": []
    }
  ],
  "metadata": {
    "kernelspec": {
      "display_name": "Python 3 (ipykernel)",
      "language": "python",
      "name": "python3"
    },
    "language_info": {
      "codemirror_mode": {
        "name": "ipython",
        "version": 3
      },
      "file_extension": ".py",
      "mimetype": "text/x-python",
      "name": "python",
      "nbconvert_exporter": "python",
      "pygments_lexer": "ipython3",
      "version": "3.12.4"
    },
    "colab": {
      "provenance": [],
      "include_colab_link": true
    }
  },
  "nbformat": 4,
  "nbformat_minor": 5
}